{
  "nbformat": 4,
  "nbformat_minor": 0,
  "metadata": {
    "colab": {
      "name": "Numpy Assignment 1.ipynb",
      "provenance": [],
      "collapsed_sections": [],
      "authorship_tag": "ABX9TyNQ+jpU0OTuLpmRnI2ZyAYl",
      "include_colab_link": true
    },
    "kernelspec": {
      "name": "python3",
      "display_name": "Python 3"
    },
    "language_info": {
      "name": "python"
    }
  },
  "cells": [
    {
      "cell_type": "markdown",
      "metadata": {
        "id": "view-in-github",
        "colab_type": "text"
      },
      "source": [
        "<a href=\"https://colab.research.google.com/github/Aditi15091999/PDV-Assignments/blob/main/Numpy_Assignment_1.ipynb\" target=\"_parent\"><img src=\"https://colab.research.google.com/assets/colab-badge.svg\" alt=\"Open In Colab\"/></a>"
      ]
    },
    {
      "cell_type": "markdown",
      "metadata": {
        "id": "YdBcoDJtkNTz"
      },
      "source": [
        "1.Create a 4X2 integer array and Prints its attributes"
      ]
    },
    {
      "cell_type": "code",
      "metadata": {
        "id": "iinsFtKeiLQe",
        "colab": {
          "base_uri": "https://localhost:8080/"
        },
        "outputId": "808cfff1-7a40-4090-dd17-414b994ae63a"
      },
      "source": [
        "import numpy as np\n",
        "arr=np.random.randint(100,size=(4,2))\n",
        "arr"
      ],
      "execution_count": 65,
      "outputs": [
        {
          "output_type": "execute_result",
          "data": {
            "text/plain": [
              "array([[28,  6],\n",
              "       [ 0,  2],\n",
              "       [72, 71],\n",
              "       [97, 34]])"
            ]
          },
          "metadata": {},
          "execution_count": 65
        }
      ]
    },
    {
      "cell_type": "markdown",
      "metadata": {
        "id": "1mMFaAShCYqH"
      },
      "source": [
        "2.Create 5*2 array from range between 100 and 200 with step 10"
      ]
    },
    {
      "cell_type": "code",
      "metadata": {
        "id": "t-vUR4IcNtBd",
        "colab": {
          "base_uri": "https://localhost:8080/"
        },
        "outputId": "16ba4163-ee59-413f-885a-220dda5c12ce"
      },
      "source": [
        "arr1=np.arange(100,200,10).reshape(5,2)\n",
        "arr1"
      ],
      "execution_count": 66,
      "outputs": [
        {
          "output_type": "execute_result",
          "data": {
            "text/plain": [
              "array([[100, 110],\n",
              "       [120, 130],\n",
              "       [140, 150],\n",
              "       [160, 170],\n",
              "       [180, 190]])"
            ]
          },
          "metadata": {},
          "execution_count": 66
        }
      ]
    },
    {
      "cell_type": "markdown",
      "metadata": {
        "id": "U9UUeAL9C1y-"
      },
      "source": [
        " 3.odd rows and even columns from numpy ARRAYS"
      ]
    },
    {
      "cell_type": "code",
      "metadata": {
        "colab": {
          "base_uri": "https://localhost:8080/"
        },
        "id": "3PITsKH-C80X",
        "outputId": "db114f53-bf1c-431a-8761-df6780232ea4"
      },
      "source": [
        "arr2=np.arange(20).reshape(4,5)\n",
        "arr2"
      ],
      "execution_count": 67,
      "outputs": [
        {
          "output_type": "execute_result",
          "data": {
            "text/plain": [
              "array([[ 0,  1,  2,  3,  4],\n",
              "       [ 5,  6,  7,  8,  9],\n",
              "       [10, 11, 12, 13, 14],\n",
              "       [15, 16, 17, 18, 19]])"
            ]
          },
          "metadata": {},
          "execution_count": 67
        }
      ]
    },
    {
      "cell_type": "code",
      "metadata": {
        "colab": {
          "base_uri": "https://localhost:8080/"
        },
        "id": "jaoZe-8eEOEH",
        "outputId": "6139c8c9-01c7-49c3-9315-99175b4685c0"
      },
      "source": [
        "arr2[::2, 1::2]"
      ],
      "execution_count": 68,
      "outputs": [
        {
          "output_type": "execute_result",
          "data": {
            "text/plain": [
              "array([[ 1,  3],\n",
              "       [11, 13]])"
            ]
          },
          "metadata": {},
          "execution_count": 68
        }
      ]
    },
    {
      "cell_type": "markdown",
      "metadata": {
        "id": "OkI3aLuwldOr"
      },
      "source": [
        "4.Create a result array by adding the following two NumPy arrays. Next, modify the result array by calculating the square of each element"
      ]
    },
    {
      "cell_type": "code",
      "metadata": {
        "colab": {
          "base_uri": "https://localhost:8080/"
        },
        "id": "nyG-vcZIleXY",
        "outputId": "45d099c6-467e-47d3-c5fd-60bf025eb01d"
      },
      "source": [
        "arr3=np.random.randint(50,80,10).reshape(2,5)\n",
        "print(arr3)\n",
        "\n",
        "arr4=np.random.randint(1,30,10).reshape(2,5)\n",
        "print(arr4)\n",
        "\n",
        "result=arr3+arr4\n",
        "print(\"The resulting array is\\n\",result)\n",
        "\n",
        "result=np.square(result)\n",
        "print(\"the squared array is\\n\",result)"
      ],
      "execution_count": 69,
      "outputs": [
        {
          "output_type": "stream",
          "name": "stdout",
          "text": [
            "[[52 61 75 76 74]\n",
            " [73 79 67 63 67]]\n",
            "[[ 8 16 28 15 27]\n",
            " [ 3  8 14 12 10]]\n",
            "The resulting array is\n",
            " [[ 60  77 103  91 101]\n",
            " [ 76  87  81  75  77]]\n",
            "the squared array is\n",
            " [[ 3600  5929 10609  8281 10201]\n",
            " [ 5776  7569  6561  5625  5929]]\n"
          ]
        }
      ]
    },
    {
      "cell_type": "markdown",
      "metadata": {
        "id": "V0hYSr3Bnpey"
      },
      "source": [
        "5. Split the array into four equal-sized sub-arrays"
      ]
    },
    {
      "cell_type": "code",
      "metadata": {
        "colab": {
          "base_uri": "https://localhost:8080/"
        },
        "id": "OzdpINHEnrlu",
        "outputId": "8b26d811-1fd6-4aed-d36e-1c01ad58f9b5"
      },
      "source": [
        "arr5=np.arange(50)\n",
        "np.split(arr5,10)"
      ],
      "execution_count": 70,
      "outputs": [
        {
          "output_type": "execute_result",
          "data": {
            "text/plain": [
              "[array([0, 1, 2, 3, 4]),\n",
              " array([5, 6, 7, 8, 9]),\n",
              " array([10, 11, 12, 13, 14]),\n",
              " array([15, 16, 17, 18, 19]),\n",
              " array([20, 21, 22, 23, 24]),\n",
              " array([25, 26, 27, 28, 29]),\n",
              " array([30, 31, 32, 33, 34]),\n",
              " array([35, 36, 37, 38, 39]),\n",
              " array([40, 41, 42, 43, 44]),\n",
              " array([45, 46, 47, 48, 49])]"
            ]
          },
          "metadata": {},
          "execution_count": 70
        }
      ]
    },
    {
      "cell_type": "markdown",
      "metadata": {
        "id": "MyprkEYnoZpe"
      },
      "source": [
        "6. Print max from axis 0 and minfrom axis 1 from the 2-D arrayof your choice."
      ]
    },
    {
      "cell_type": "code",
      "metadata": {
        "colab": {
          "base_uri": "https://localhost:8080/"
        },
        "id": "WSWjsvGZoZCq",
        "outputId": "1c37bff7-b6ea-46b6-80b0-35e941ca24af"
      },
      "source": [
        "arr6=np.array([[1,2,3,4],[21,34,56,67],[20,6,7,8],[9,46,11,12]])\n",
        "print(arr6)\n",
        "print(\"The max from axis 0 is\")\n",
        "max=np.amax(arr6,0)\n",
        "print(max)\n",
        "print(\"The min from axis 1 is\")\n",
        "print(np.amin(arr6,1))"
      ],
      "execution_count": 71,
      "outputs": [
        {
          "output_type": "stream",
          "name": "stdout",
          "text": [
            "[[ 1  2  3  4]\n",
            " [21 34 56 67]\n",
            " [20  6  7  8]\n",
            " [ 9 46 11 12]]\n",
            "The max from axis 0 is\n",
            "[21 46 56 67]\n",
            "The min from axis 1 is\n",
            "[ 1 21  6  9]\n"
          ]
        }
      ]
    },
    {
      "cell_type": "markdown",
      "metadata": {
        "id": "X8Kv9HXDohIH"
      },
      "source": [
        "7.Delete the second column from a givenarray and insert the new column in its place."
      ]
    },
    {
      "cell_type": "code",
      "metadata": {
        "colab": {
          "base_uri": "https://localhost:8080/"
        },
        "id": "NcS4lPY9osM6",
        "outputId": "4d54a05b-f06b-4995-d12d-1903638efa4e"
      },
      "source": [
        "arr_del=np.delete(arr6,1,1)\n",
        "arr_del"
      ],
      "execution_count": 72,
      "outputs": [
        {
          "output_type": "execute_result",
          "data": {
            "text/plain": [
              "array([[ 1,  3,  4],\n",
              "       [21, 56, 67],\n",
              "       [20,  7,  8],\n",
              "       [ 9, 11, 12]])"
            ]
          },
          "metadata": {},
          "execution_count": 72
        }
      ]
    },
    {
      "cell_type": "code",
      "metadata": {
        "colab": {
          "base_uri": "https://localhost:8080/"
        },
        "id": "Jgm-vmwDvHBG",
        "outputId": "9973854c-19a2-4063-c645-48b107d7a276"
      },
      "source": [
        "new_col=[[12,14,16,45]]\n",
        "arr_del=np.insert(arr_del,1,new_col,1)\n",
        "arr_del"
      ],
      "execution_count": 73,
      "outputs": [
        {
          "output_type": "execute_result",
          "data": {
            "text/plain": [
              "array([[ 1, 12,  3,  4],\n",
              "       [21, 14, 56, 67],\n",
              "       [20, 16,  7,  8],\n",
              "       [ 9, 45, 11, 12]])"
            ]
          },
          "metadata": {},
          "execution_count": 73
        }
      ]
    }
  ]
}